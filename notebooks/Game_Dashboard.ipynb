{
 "cells": [
  {
   "cell_type": "markdown",
   "metadata": {},
   "source": [
    "## Setup"
   ]
  },
  {
   "cell_type": "markdown",
   "metadata": {},
   "source": [
    "### Dependencies"
   ]
  },
  {
   "cell_type": "code",
   "execution_count": 1,
   "metadata": {},
   "outputs": [],
   "source": [
    "import datetime as dt\n",
    "import os\n",
    "\n",
    "import ipywidgets as widgets\n",
    "from IPython.display import display,clear_output"
   ]
  },
  {
   "cell_type": "code",
   "execution_count": 3,
   "metadata": {},
   "outputs": [
    {
     "name": "stdout",
     "output_type": "stream",
     "text": [
      "/home/jake/Projects/mila/6758/Docker/ift6758/ift6758/client\n"
     ]
    }
   ],
   "source": [
    "cd ../ift6758/ift6758/client"
   ]
  },
  {
   "cell_type": "code",
   "execution_count": 2,
   "metadata": {},
   "outputs": [
    {
     "data": {
      "text/plain": [
       "'/home/jake/Projects/mila/6758/Docker/notebooks'"
      ]
     },
     "execution_count": 2,
     "metadata": {},
     "output_type": "execute_result"
    }
   ],
   "source": [
    "pwd"
   ]
  },
  {
   "cell_type": "code",
   "execution_count": 4,
   "metadata": {},
   "outputs": [],
   "source": [
    "from ift6758.client import GameTracker, NHLAPIClient, PredictorAPIClient"
   ]
  },
  {
   "cell_type": "markdown",
   "metadata": {},
   "source": [
    "### Setup"
   ]
  },
  {
   "cell_type": "code",
   "execution_count": 16,
   "metadata": {},
   "outputs": [],
   "source": [
    "if not os.path.exists(\"./tmp_data/\"):\n",
    "    os.makedirs(\"./tmp_data/\")"
   ]
  },
  {
   "cell_type": "code",
   "execution_count": 17,
   "metadata": {},
   "outputs": [],
   "source": [
    "nhl_api = NHLAPIClient(raw_game_directory=\"./tmp_data/\")\n",
    "predictor = PredictorAPIClient()"
   ]
  },
  {
   "cell_type": "code",
   "execution_count": 18,
   "metadata": {},
   "outputs": [],
   "source": [
    "game_tracker = GameTracker(nhl_api_client=nhl_api, predictor_client=predictor)"
   ]
  },
  {
   "cell_type": "markdown",
   "metadata": {},
   "source": [
    "### Dashboard Actions"
   ]
  },
  {
   "cell_type": "code",
   "execution_count": 19,
   "metadata": {},
   "outputs": [],
   "source": [
    "game_id_tbox = widgets.Text(description=\"game_id\", width=300)\n",
    "model_id_tbox = widgets.Text(description=\"model_id\", width=300)\n",
    "button_update = widgets.Button(description=\"Update Dashboard\")\n",
    "output = widgets.Output()"
   ]
  },
  {
   "cell_type": "code",
   "execution_count": null,
   "metadata": {},
   "outputs": [],
   "source": [
    "        # print(err_msg)\n",
    "        # most_recent_event = self.events.tail(1).squeeze()\n",
    "\n",
    "        # home_team = most_recent_event['home_team']\n",
    "        # away_team = most_recent_event['away_team']\n",
    "\n",
    "        # home_expected_goals = self.events[\n",
    "        #     self.events['shooter_team_name']==home_team, 'predictions'\n",
    "        # ].sum()\n",
    "        # away_expected_goals = self.events[\n",
    "        #     self.events['shooter_team_name']==away_team, 'predictions'\n",
    "        # ].sum()\n",
    "\n",
    "        # components = {\n",
    "        #     'time_info': f\"Period {most_recent_event['period']}, {most_recent_event['time_remaining']} Remaining\",\n",
    "        #     'team_info': f\"Home: {home_team} Away: {away_team}\",\n",
    "        #     'xG_info': f\"Home xG: {home_expected_goals} Away xG: {away_expected_goals}\",\n",
    "        #     'recent_events': self.events[['type','description', 'predictions']].tail().iloc[::-1]\n",
    "        # }\n",
    "\n",
    "        # return err_msg, components\n"
   ]
  },
  {
   "cell_type": "code",
   "execution_count": null,
   "metadata": {},
   "outputs": [],
   "source": [
    "# with pd.option_context('display.max_rows', None, 'display.max_columns', None):\n",
    "#     display(game_tracker.events[['type', 'shooter_team_name','predictions']])"
   ]
  },
  {
   "cell_type": "code",
   "execution_count": null,
   "metadata": {},
   "outputs": [],
   "source": [
    "# except UnknownGameException as uge:\n",
    "#     err_msg = f\"Game ID {game_id} not recognized, so dashboard unchanged\"\n",
    "#     return err_msg\n",
    "\n",
    "#    except UnknownModelException as ume:\n",
    "#         err_msg = f\"Dashboard unchanged because model_id \" + str(ume)\n",
    "#         return self.render_dashboard(err_msg=err_msg)"
   ]
  },
  {
   "cell_type": "code",
   "execution_count": 20,
   "metadata": {},
   "outputs": [],
   "source": [
    "def on_button_update_clicked(btn):\n",
    "    # err_msg, components = game_tracker.update_dashboard(\n",
    "    #     game_id=game_id_tbox.value,\n",
    "    #     model_id=model_id_tbox.value\n",
    "    # )\n",
    "\n",
    "    with output:\n",
    "        print(f\"Updated at {dt.datetime.now()}\")\n",
    "        # print(components['time_info'])\n",
    "        # print(components['team_info'])\n",
    "        # print(components['xG_info'])\n",
    "        # display(components['recent_events'])\n",
    "\n",
    "button_update.on_click(on_button_update_clicked)"
   ]
  },
  {
   "cell_type": "code",
   "execution_count": 21,
   "metadata": {},
   "outputs": [
    {
     "data": {
      "application/vnd.jupyter.widget-view+json": {
       "model_id": "d4b0002a85bd49318ac59e2120bab70a",
       "version_major": 2,
       "version_minor": 0
      },
      "text/plain": [
       "HBox(children=(Text(value='', description='game_id'), Text(value='', description='model_id'), Button(descripti…"
      ]
     },
     "metadata": {},
     "output_type": "display_data"
    },
    {
     "data": {
      "application/vnd.jupyter.widget-view+json": {
       "model_id": "3e8197aedb474aaf8f4d026319108593",
       "version_major": 2,
       "version_minor": 0
      },
      "text/plain": [
       "Output()"
      ]
     },
     "metadata": {},
     "output_type": "display_data"
    }
   ],
   "source": [
    "display(widgets.HBox((game_id_tbox, model_id_tbox, button_update)))\n",
    "display(output)\n",
    "# 2021020001, xgboost-feats-non-corr"
   ]
  }
 ],
 "metadata": {
  "interpreter": {
   "hash": "9458e4c2a045d659c76b210fb79a205bf96c8302ffa2a55b8d778519b889c5e1"
  },
  "kernelspec": {
   "display_name": "Python 3.9.7 64-bit ('ift6758-conda-env': conda)",
   "language": "python",
   "name": "python3"
  },
  "language_info": {
   "codemirror_mode": {
    "name": "ipython",
    "version": 3
   },
   "file_extension": ".py",
   "mimetype": "text/x-python",
   "name": "python",
   "nbconvert_exporter": "python",
   "pygments_lexer": "ipython3",
   "version": "3.9.7"
  },
  "orig_nbformat": 4
 },
 "nbformat": 4,
 "nbformat_minor": 2
}
