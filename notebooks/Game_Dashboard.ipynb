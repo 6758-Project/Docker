{
 "cells": [
  {
   "cell_type": "markdown",
   "metadata": {},
   "source": [
    "## Setup"
   ]
  },
  {
   "cell_type": "code",
   "execution_count": 87,
   "metadata": {},
   "outputs": [
    {
     "name": "stdout",
     "output_type": "stream",
     "text": [
      "The autoreload extension is already loaded. To reload it, use:\n",
      "  %reload_ext autoreload\n"
     ]
    }
   ],
   "source": [
    "%load_ext autoreload\n",
    "%autoreload 2"
   ]
  },
  {
   "cell_type": "markdown",
   "metadata": {},
   "source": [
    "### Dependencies"
   ]
  },
  {
   "cell_type": "code",
   "execution_count": 88,
   "metadata": {},
   "outputs": [],
   "source": [
    "# !jupyter nbextension enable --py --sys-prefix widgetsnbextension"
   ]
  },
  {
   "cell_type": "code",
   "execution_count": 89,
   "metadata": {},
   "outputs": [],
   "source": [
    "import datetime as dt\n",
    "import os\n",
    "\n",
    "import ipywidgets as widgets\n",
    "from IPython.display import display,clear_output"
   ]
  },
  {
   "cell_type": "code",
   "execution_count": 114,
   "metadata": {},
   "outputs": [],
   "source": [
    "import pandas as pd\n",
    "pd.options.mode.chained_assignment = None   # suppresses SettingWithCopyWarning"
   ]
  },
  {
   "cell_type": "code",
   "execution_count": 90,
   "metadata": {},
   "outputs": [
    {
     "data": {
      "text/plain": [
       "'/home/jake/Projects/mila/6758/Docker/notebooks'"
      ]
     },
     "execution_count": 90,
     "metadata": {},
     "output_type": "execute_result"
    }
   ],
   "source": [
    "pwd"
   ]
  },
  {
   "cell_type": "code",
   "execution_count": 91,
   "metadata": {},
   "outputs": [],
   "source": [
    "from ift6758.client import GameTracker, NHLAPIClient, PredictorAPIClient\n",
    "from ift6758.client.nhl_api_client import UnknownGameException\n",
    "from ift6758.client.predictor_api_client import UnknownModelException"
   ]
  },
  {
   "cell_type": "markdown",
   "metadata": {},
   "source": [
    "### Setup"
   ]
  },
  {
   "cell_type": "code",
   "execution_count": 92,
   "metadata": {},
   "outputs": [],
   "source": [
    "if not os.path.exists(\"./tmp_data/\"):\n",
    "    os.makedirs(\"./tmp_data/\")"
   ]
  },
  {
   "cell_type": "code",
   "execution_count": 93,
   "metadata": {},
   "outputs": [],
   "source": [
    "nhl_api = NHLAPIClient(raw_game_directory=\"./tmp_data/\")\n",
    "predictor = PredictorAPIClient()\n",
    "game_tracker = GameTracker(nhl_api_client=nhl_api, predictor_client=predictor)"
   ]
  },
  {
   "cell_type": "markdown",
   "metadata": {},
   "source": [
    "### Dashboard Actions"
   ]
  },
  {
   "cell_type": "code",
   "execution_count": 116,
   "metadata": {},
   "outputs": [
    {
     "name": "stdout",
     "output_type": "stream",
     "text": [
      "Period 3, 00:00 Remaining\n",
      "Home: Ottawa Senators Away: Toronto Maple Leafs\n",
      "Home G: 3 Away G: 2\n",
      "Home xG: 4.31 Away xG: 4.77\n",
      "Recent events:\n"
     ]
    },
    {
     "name": "stderr",
     "output_type": "stream",
     "text": [
      "/home/jake/Projects/mila/6758/Docker/ift6758/ift6758/client/GameTracker.py:37: UserWarning: Boolean Series key will be reindexed to match DataFrame index.\n",
      "  new_pred_inputs = game_events.loc[new_event_idx][shot_mask]\n"
     ]
    },
    {
     "data": {
      "text/html": [
       "<div>\n",
       "<style scoped>\n",
       "    .dataframe tbody tr th:only-of-type {\n",
       "        vertical-align: middle;\n",
       "    }\n",
       "\n",
       "    .dataframe tbody tr th {\n",
       "        vertical-align: top;\n",
       "    }\n",
       "\n",
       "    .dataframe thead th {\n",
       "        text-align: right;\n",
       "    }\n",
       "</style>\n",
       "<table border=\"1\" class=\"dataframe\">\n",
       "  <thead>\n",
       "    <tr style=\"text-align: right;\">\n",
       "      <th></th>\n",
       "      <th>type</th>\n",
       "      <th>description</th>\n",
       "      <th>predictions</th>\n",
       "    </tr>\n",
       "  </thead>\n",
       "  <tbody>\n",
       "    <tr>\n",
       "      <th>347</th>\n",
       "      <td>GAME_OFFICIAL</td>\n",
       "      <td>Game Official</td>\n",
       "      <td>NaN</td>\n",
       "    </tr>\n",
       "    <tr>\n",
       "      <th>346</th>\n",
       "      <td>GAME_END</td>\n",
       "      <td>Game End</td>\n",
       "      <td>NaN</td>\n",
       "    </tr>\n",
       "    <tr>\n",
       "      <th>345</th>\n",
       "      <td>PERIOD_OFFICIAL</td>\n",
       "      <td>Period Official</td>\n",
       "      <td>NaN</td>\n",
       "    </tr>\n",
       "    <tr>\n",
       "      <th>344</th>\n",
       "      <td>PERIOD_END</td>\n",
       "      <td>End of 3rd Period</td>\n",
       "      <td>NaN</td>\n",
       "    </tr>\n",
       "    <tr>\n",
       "      <th>343</th>\n",
       "      <td>MISSED_SHOT</td>\n",
       "      <td>Morgan Rielly Over Net Anton Forsberg</td>\n",
       "      <td>NaN</td>\n",
       "    </tr>\n",
       "    <tr>\n",
       "      <th>342</th>\n",
       "      <td>HIT</td>\n",
       "      <td>Nick Paul hit William Nylander</td>\n",
       "      <td>NaN</td>\n",
       "    </tr>\n",
       "    <tr>\n",
       "      <th>341</th>\n",
       "      <td>FACEOFF</td>\n",
       "      <td>David Kampf faceoff won against Shane Pinto</td>\n",
       "      <td>NaN</td>\n",
       "    </tr>\n",
       "    <tr>\n",
       "      <th>340</th>\n",
       "      <td>STOP</td>\n",
       "      <td>Visitor Timeout</td>\n",
       "      <td>NaN</td>\n",
       "    </tr>\n",
       "    <tr>\n",
       "      <th>339</th>\n",
       "      <td>PENALTY</td>\n",
       "      <td>John Tavares Hooking against Connor Brown</td>\n",
       "      <td>NaN</td>\n",
       "    </tr>\n",
       "    <tr>\n",
       "      <th>338</th>\n",
       "      <td>BLOCKED_SHOT</td>\n",
       "      <td>Jason Spezza shot blocked shot by Nick Holden</td>\n",
       "      <td>NaN</td>\n",
       "    </tr>\n",
       "    <tr>\n",
       "      <th>337</th>\n",
       "      <td>SHOT</td>\n",
       "      <td>Morgan Rielly Wrist Shot saved by Anton Forsberg</td>\n",
       "      <td>0.008482</td>\n",
       "    </tr>\n",
       "    <tr>\n",
       "      <th>336</th>\n",
       "      <td>HIT</td>\n",
       "      <td>Justin Holl hit Shane Pinto</td>\n",
       "      <td>NaN</td>\n",
       "    </tr>\n",
       "    <tr>\n",
       "      <th>335</th>\n",
       "      <td>SHOT</td>\n",
       "      <td>Shane Pinto Wrist Shot saved by Jack Campbell</td>\n",
       "      <td>0.163573</td>\n",
       "    </tr>\n",
       "    <tr>\n",
       "      <th>334</th>\n",
       "      <td>MISSED_SHOT</td>\n",
       "      <td>Morgan Rielly Goalpost Anton Forsberg</td>\n",
       "      <td>NaN</td>\n",
       "    </tr>\n",
       "    <tr>\n",
       "      <th>333</th>\n",
       "      <td>SHOT</td>\n",
       "      <td>Michael Bunting Backhand saved by Anton Forsberg</td>\n",
       "      <td>0.148296</td>\n",
       "    </tr>\n",
       "  </tbody>\n",
       "</table>\n",
       "</div>"
      ],
      "text/plain": [
       "                type                                       description  \\\n",
       "347    GAME_OFFICIAL                                     Game Official   \n",
       "346         GAME_END                                          Game End   \n",
       "345  PERIOD_OFFICIAL                                   Period Official   \n",
       "344       PERIOD_END                                 End of 3rd Period   \n",
       "343      MISSED_SHOT             Morgan Rielly Over Net Anton Forsberg   \n",
       "342              HIT                    Nick Paul hit William Nylander   \n",
       "341          FACEOFF       David Kampf faceoff won against Shane Pinto   \n",
       "340             STOP                                   Visitor Timeout   \n",
       "339          PENALTY         John Tavares Hooking against Connor Brown   \n",
       "338     BLOCKED_SHOT     Jason Spezza shot blocked shot by Nick Holden   \n",
       "337             SHOT  Morgan Rielly Wrist Shot saved by Anton Forsberg   \n",
       "336              HIT                       Justin Holl hit Shane Pinto   \n",
       "335             SHOT     Shane Pinto Wrist Shot saved by Jack Campbell   \n",
       "334      MISSED_SHOT             Morgan Rielly Goalpost Anton Forsberg   \n",
       "333             SHOT  Michael Bunting Backhand saved by Anton Forsberg   \n",
       "\n",
       "     predictions  \n",
       "347          NaN  \n",
       "346          NaN  \n",
       "345          NaN  \n",
       "344          NaN  \n",
       "343          NaN  \n",
       "342          NaN  \n",
       "341          NaN  \n",
       "340          NaN  \n",
       "339          NaN  \n",
       "338          NaN  \n",
       "337     0.008482  \n",
       "336          NaN  \n",
       "335     0.163573  \n",
       "334          NaN  \n",
       "333     0.148296  "
      ]
     },
     "metadata": {},
     "output_type": "display_data"
    }
   ],
   "source": [
    "update_dashboard = True\n",
    "game_id = 2021020008\n",
    "model_id = \"xgboost-feats-non-corr\"   # nn-adv, xgboost-lasso logistic-regression-distance-and-angle\n",
    "# not working models: xgboost-lasso, nn-adv\n",
    "if update_dashboard:\n",
    "    try:\n",
    "        game_tracker.update(game_id, model_id)\n",
    "    except UnknownGameException as uge:\n",
    "        print(f\"Game ID {game_id} not recognized, so dashboard unchanged\")\n",
    "    except UnknownModelException as ume:\n",
    "        print(f\"Dashboard unchanged because model_id \" + str(ume))\n",
    "\n",
    "    events = game_tracker.get_events_and_predictions()\n",
    "\n",
    "    most_recent_event = events.head(1).squeeze()\n",
    "    home_team = most_recent_event['home_team']\n",
    "    away_team = most_recent_event['away_team']\n",
    "\n",
    "    home_xG = round(events.loc[events['shooter_team_name']==home_team, 'predictions'].sum(), 2)\n",
    "    away_xG = round(events.loc[events['shooter_team_name']==away_team, 'predictions'].sum(), 2)\n",
    "\n",
    "    print(f\"Period {most_recent_event['period']}, {most_recent_event['time_remaining']} Remaining\")\n",
    "    print(f\"Home: {home_team} Away: {away_team}\")\n",
    "    print(f\"Home G: {most_recent_event['goals_home']} Away G: {most_recent_event['goals_away']}\")\n",
    "    print(f\"Home xG: {home_xG} Away xG: {away_xG}\")\n",
    "    print(f\"Recent events:\")\n",
    "    display(events[['type','description', 'predictions']].head(15))\n"
   ]
  },
  {
   "cell_type": "code",
   "execution_count": 95,
   "metadata": {},
   "outputs": [],
   "source": [
    "# game_id_tbox = widgets.Text(description=\"game_id\", width=300)\n",
    "# model_id_tbox = widgets.Text(description=\"model_id\", width=300)\n",
    "# button_update = widgets.Button(description=\"Update Dashboard\")\n",
    "# button_update.on_click(on_button_update_clicked)\n",
    "# output = widgets.Output()"
   ]
  },
  {
   "cell_type": "code",
   "execution_count": 96,
   "metadata": {},
   "outputs": [],
   "source": [
    "# print(err_msg)\n",
    "# \n",
    "\n",
    "\n",
    "\n",
    "# return err_msg, components\n"
   ]
  },
  {
   "cell_type": "code",
   "execution_count": 97,
   "metadata": {},
   "outputs": [],
   "source": [
    "# with pd.option_context('display.max_rows', None, 'display.max_columns', None):\n",
    "#     display(game_tracker.events[['type', 'shooter_team_name','predictions']])"
   ]
  },
  {
   "cell_type": "code",
   "execution_count": null,
   "metadata": {},
   "outputs": [],
   "source": []
  },
  {
   "cell_type": "code",
   "execution_count": 98,
   "metadata": {},
   "outputs": [
    {
     "ename": "NameError",
     "evalue": "name 'button_update' is not defined",
     "output_type": "error",
     "traceback": [
      "\u001b[0;31m---------------------------------------------------------------------------\u001b[0m",
      "\u001b[0;31mNameError\u001b[0m                                 Traceback (most recent call last)",
      "\u001b[0;32m/tmp/ipykernel_411085/241178543.py\u001b[0m in \u001b[0;36m<module>\u001b[0;34m\u001b[0m\n\u001b[0;32m----> 1\u001b[0;31m \u001b[0mdisplay\u001b[0m\u001b[0;34m(\u001b[0m\u001b[0mbutton_update\u001b[0m\u001b[0;34m)\u001b[0m\u001b[0;34m\u001b[0m\u001b[0;34m\u001b[0m\u001b[0m\n\u001b[0m\u001b[1;32m      2\u001b[0m \u001b[0;31m# display(widgets.HBox((game_id_tbox, model_id_tbox, button_update)))\u001b[0m\u001b[0;34m\u001b[0m\u001b[0;34m\u001b[0m\u001b[0m\n\u001b[1;32m      3\u001b[0m \u001b[0mdisplay\u001b[0m\u001b[0;34m(\u001b[0m\u001b[0moutput\u001b[0m\u001b[0;34m)\u001b[0m\u001b[0;34m\u001b[0m\u001b[0;34m\u001b[0m\u001b[0m\n\u001b[1;32m      4\u001b[0m \u001b[0;31m# 2021020001, xgboost-feats-non-corr\u001b[0m\u001b[0;34m\u001b[0m\u001b[0;34m\u001b[0m\u001b[0m\n",
      "\u001b[0;31mNameError\u001b[0m: name 'button_update' is not defined"
     ]
    }
   ],
   "source": [
    "display(button_update)\n",
    "# display(widgets.HBox((game_id_tbox, model_id_tbox, button_update)))\n",
    "display(output)\n",
    "# 2021020001, xgboost-feats-non-corr"
   ]
  }
 ],
 "metadata": {
  "interpreter": {
   "hash": "9458e4c2a045d659c76b210fb79a205bf96c8302ffa2a55b8d778519b889c5e1"
  },
  "kernelspec": {
   "display_name": "Python 3.9.7 64-bit ('ift6758-conda-env': conda)",
   "language": "python",
   "name": "python3"
  },
  "language_info": {
   "codemirror_mode": {
    "name": "ipython",
    "version": 3
   },
   "file_extension": ".py",
   "mimetype": "text/x-python",
   "name": "python",
   "nbconvert_exporter": "python",
   "pygments_lexer": "ipython3",
   "version": "3.9.7"
  },
  "orig_nbformat": 4
 },
 "nbformat": 4,
 "nbformat_minor": 2
}
