{
 "cells": [
  {
   "cell_type": "code",
   "execution_count": 5,
   "metadata": {},
   "outputs": [],
   "source": [
    "# pip install -e ift6758\n",
    "# from ift6758.src import GameTracker"
   ]
  },
  {
   "cell_type": "code",
   "execution_count": null,
   "metadata": {},
   "outputs": [],
   "source": [
    "nhl_api = NHLAPIClient(raw_game_directory=\"../hockey/data/raw/\")\n",
    "predictor = PredictorAPIClient()"
   ]
  },
  {
   "cell_type": "code",
   "execution_count": null,
   "metadata": {},
   "outputs": [],
   "source": [
    "gt = GameTracker(nhl_api_client=nhl_api, predictor_client=predictor)"
   ]
  },
  {
   "cell_type": "code",
   "execution_count": null,
   "metadata": {},
   "outputs": [],
   "source": [
    "def update_dashboard_wrapper(game_id_getter, model_name_getter):\n",
    "    \"\"\" Wrap GameTracker update dashboard with current arguments from interactive \"\"\"\n",
    "    return lambda: gt.update_dashboard(\n",
    "        game_id=game_id_getter.get('game_id'),\n",
    "        model_id=model_name_getter.get('model')\n",
    "    )"
   ]
  },
  {
   "cell_type": "code",
   "execution_count": null,
   "metadata": {},
   "outputs": [],
   "source": [
    "button.on_click(update_dashboard_wrapper)"
   ]
  }
 ],
 "metadata": {
  "interpreter": {
   "hash": "9458e4c2a045d659c76b210fb79a205bf96c8302ffa2a55b8d778519b889c5e1"
  },
  "kernelspec": {
   "display_name": "Python 3.9.7 64-bit ('ift6758-conda-env': conda)",
   "language": "python",
   "name": "python3"
  },
  "language_info": {
   "codemirror_mode": {
    "name": "ipython",
    "version": 3
   },
   "file_extension": ".py",
   "mimetype": "text/x-python",
   "name": "python",
   "nbconvert_exporter": "python",
   "pygments_lexer": "ipython3",
   "version": "3.9.7"
  },
  "orig_nbformat": 4
 },
 "nbformat": 4,
 "nbformat_minor": 2
}
