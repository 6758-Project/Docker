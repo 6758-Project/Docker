{
 "cells": [
  {
   "cell_type": "markdown",
   "metadata": {},
   "source": [
    "## Setup"
   ]
  },
  {
   "cell_type": "code",
   "execution_count": 1,
   "metadata": {},
   "outputs": [],
   "source": [
    "%load_ext autoreload\n",
    "%autoreload 2"
   ]
  },
  {
   "cell_type": "markdown",
   "metadata": {},
   "source": [
    "### Dependencies"
   ]
  },
  {
   "cell_type": "code",
   "execution_count": 2,
   "metadata": {},
   "outputs": [],
   "source": [
    "# !jupyter nbextension enable --py --sys-prefix widgetsnbextension"
   ]
  },
  {
   "cell_type": "code",
   "execution_count": 3,
   "metadata": {},
   "outputs": [],
   "source": [
    "import datetime as dt\n",
    "import os\n",
    "\n",
    "import ipywidgets as widgets\n",
    "from IPython.display import display,clear_output"
   ]
  },
  {
   "cell_type": "code",
   "execution_count": 4,
   "metadata": {},
   "outputs": [],
   "source": [
    "import pandas as pd\n",
    "pd.options.mode.chained_assignment = None   # suppresses SettingWithCopyWarning"
   ]
  },
  {
   "cell_type": "code",
   "execution_count": 5,
   "metadata": {},
   "outputs": [
    {
     "data": {
      "text/plain": [
       "'C:\\\\Users\\\\timot\\\\Desktop\\\\Mila\\\\Courses\\\\IFT6758\\\\Project\\\\Project Service\\\\Docker\\\\notebooks'"
      ]
     },
     "execution_count": 5,
     "metadata": {},
     "output_type": "execute_result"
    }
   ],
   "source": [
    "pwd"
   ]
  },
  {
   "cell_type": "code",
   "execution_count": 6,
   "metadata": {},
   "outputs": [],
   "source": [
    "from ift6758.client import GameTracker, NHLAPIClient, PredictorAPIClient\n",
    "from ift6758.client.nhl_api_client import UnknownGameException\n",
    "from ift6758.client.predictor_api_client import UnknownModelException\n",
    "from ift6758.client.utils import MODEL_OPTIONS"
   ]
  },
  {
   "cell_type": "markdown",
   "metadata": {},
   "source": [
    "### Setup"
   ]
  },
  {
   "cell_type": "code",
   "execution_count": 7,
   "metadata": {},
   "outputs": [],
   "source": [
    "if not os.path.exists(\"./tmp_data/\"):\n",
    "    os.makedirs(\"./tmp_data/\")"
   ]
  },
  {
   "cell_type": "code",
   "execution_count": 18,
   "metadata": {},
   "outputs": [],
   "source": [
    "nhl_api = NHLAPIClient(raw_game_directory=\"./tmp_data/\")\n",
    "predictor = PredictorAPIClient(ip=\"serving\")\n",
    "#predictor = PredictorAPIClient(ip=\"127.0.0.1\")\n",
    "game_tracker = GameTracker(nhl_api_client=nhl_api, predictor_client=predictor)"
   ]
  },
  {
   "cell_type": "markdown",
   "metadata": {},
   "source": [
    "### Dashboard Actions"
   ]
  },
  {
   "cell_type": "code",
   "execution_count": 19,
   "metadata": {},
   "outputs": [],
   "source": [
    "def on_button_update_clicked(btn):\n",
    "\n",
    "    with output:\n",
    "        try:\n",
    "            game_tracker.update(game_id_tbox.value, model_id_tbox.value)\n",
    "        except UnknownGameException as uge:\n",
    "            print(f\"Game ID {game_id_tbox.value} not recognized, so dashboard unchanged\")\n",
    "        except UnknownModelException as ume:\n",
    "            print(f\"Dashboard unchanged because model_id \" + str(ume))\n",
    "\n",
    "        events = game_tracker.get_events_and_predictions()\n",
    "\n",
    "        most_recent_event = events.head(1).squeeze()\n",
    "        home_team = most_recent_event['home_team']\n",
    "        away_team = most_recent_event['away_team']\n",
    "\n",
    "        home_xG = round(events.loc[events['shooter_team_name']==home_team, 'predictions'].sum(), 2)\n",
    "        away_xG = round(events.loc[events['shooter_team_name']==away_team, 'predictions'].sum(), 2)\n",
    "\n",
    "        clear_output()\n",
    "        print(f\"Model Loaded: {model_id_tbox.value}\")\n",
    "        print(f\"Period {most_recent_event['period']}, {most_recent_event['time_remaining']} Remaining\")\n",
    "        print(f\"Home: {home_team} Away: {away_team}\")\n",
    "        print(f\"Home G: {most_recent_event['goals_home']} Away G: {most_recent_event['goals_away']}\")\n",
    "        print(f\"Home xG: {home_xG} Away xG: {away_xG}\")\n",
    "        print(f\"Recent events:\")\n",
    "        display(events[['type','description', 'predictions']].head(15))\n"
   ]
  },
  {
   "cell_type": "code",
   "execution_count": 20,
   "metadata": {},
   "outputs": [
    {
     "data": {
      "application/vnd.jupyter.widget-view+json": {
       "model_id": "4597fd47d6e94ce29b0968a86b8969f9",
       "version_major": 2,
       "version_minor": 0
      },
      "text/plain": [
       "HBox(children=(Text(value='2021020008', description='game_id'), Dropdown(description='Number:', index=5, optio…"
      ]
     },
     "metadata": {},
     "output_type": "display_data"
    },
    {
     "data": {
      "application/vnd.jupyter.widget-view+json": {
       "model_id": "099cf16d2d8d4033a7d62113f669f4ac",
       "version_major": 2,
       "version_minor": 0
      },
      "text/plain": [
       "Output()"
      ]
     },
     "metadata": {},
     "output_type": "display_data"
    }
   ],
   "source": [
    "game_id_tbox = widgets.Text(description=\"game_id\", width=300, value = \"2021020008\")\n",
    "#model_id_tbox = widgets.Text(description=\"model_id\", width=300, value = \"xgboost-feats-non-corr\")\n",
    "model_id_tbox = widgets.Dropdown(\n",
    "    options=MODEL_OPTIONS,\n",
    "    value=\"xgboost-feats-non-corr\",\n",
    "    description='Number:',\n",
    ")\n",
    "\n",
    "\n",
    "\n",
    "button_update = widgets.Button(description=\"Update Dashboard\")\n",
    "\n",
    "button_update.on_click(on_button_update_clicked)\n",
    "output = widgets.Output()\n",
    "\n",
    "display(widgets.HBox((game_id_tbox, model_id_tbox, button_update)))\n",
    "display(output)"
   ]
  },
  {
   "cell_type": "code",
   "execution_count": 16,
   "metadata": {},
   "outputs": [
    {
     "data": {
      "text/plain": [
       "'xgboost-feats-non-corr'"
      ]
     },
     "execution_count": 16,
     "metadata": {},
     "output_type": "execute_result"
    }
   ],
   "source": [
    "# print(err_msg)\n",
    "# \n",
    "\n",
    "# return err_msg, components\n"
   ]
  },
  {
   "cell_type": "code",
   "execution_count": 97,
   "metadata": {},
   "outputs": [],
   "source": [
    "# with pd.option_context('display.max_rows', None, 'display.max_columns', None):\n",
    "#     display(game_tracker.events[['type', 'shooter_team_name','predictions']])"
   ]
  },
  {
   "cell_type": "code",
   "execution_count": null,
   "metadata": {},
   "outputs": [],
   "source": []
  },
  {
   "cell_type": "code",
   "execution_count": 98,
   "metadata": {},
   "outputs": [
    {
     "ename": "NameError",
     "evalue": "name 'button_update' is not defined",
     "output_type": "error",
     "traceback": [
      "\u001b[0;31m---------------------------------------------------------------------------\u001b[0m",
      "\u001b[0;31mNameError\u001b[0m                                 Traceback (most recent call last)",
      "\u001b[0;32m/tmp/ipykernel_411085/241178543.py\u001b[0m in \u001b[0;36m<module>\u001b[0;34m\u001b[0m\n\u001b[0;32m----> 1\u001b[0;31m \u001b[0mdisplay\u001b[0m\u001b[0;34m(\u001b[0m\u001b[0mbutton_update\u001b[0m\u001b[0;34m)\u001b[0m\u001b[0;34m\u001b[0m\u001b[0;34m\u001b[0m\u001b[0m\n\u001b[0m\u001b[1;32m      2\u001b[0m \u001b[0;31m# display(widgets.HBox((game_id_tbox, model_id_tbox, button_update)))\u001b[0m\u001b[0;34m\u001b[0m\u001b[0;34m\u001b[0m\u001b[0m\n\u001b[1;32m      3\u001b[0m \u001b[0mdisplay\u001b[0m\u001b[0;34m(\u001b[0m\u001b[0moutput\u001b[0m\u001b[0;34m)\u001b[0m\u001b[0;34m\u001b[0m\u001b[0;34m\u001b[0m\u001b[0m\n\u001b[1;32m      4\u001b[0m \u001b[0;31m# 2021020001, xgboost-feats-non-corr\u001b[0m\u001b[0;34m\u001b[0m\u001b[0;34m\u001b[0m\u001b[0m\n",
      "\u001b[0;31mNameError\u001b[0m: name 'button_update' is not defined"
     ]
    }
   ],
   "source": [
    "display(button_update)\n",
    "# display(widgets.HBox((game_id_tbox, model_id_tbox, button_update)))\n",
    "display(output)\n",
    "# 2021020001, xgboost-feats-non-corr"
   ]
  },
  {
   "cell_type": "code",
   "execution_count": null,
   "metadata": {},
   "outputs": [],
   "source": []
  }
 ],
 "metadata": {
  "interpreter": {
   "hash": "9458e4c2a045d659c76b210fb79a205bf96c8302ffa2a55b8d778519b889c5e1"
  },
  "kernelspec": {
   "display_name": "ift6758-conda-env",
   "language": "python",
   "name": "ift6758-conda-env"
  },
  "language_info": {
   "codemirror_mode": {
    "name": "ipython",
    "version": 3
   },
   "file_extension": ".py",
   "mimetype": "text/x-python",
   "name": "python",
   "nbconvert_exporter": "python",
   "pygments_lexer": "ipython3",
   "version": "3.9.7"
  }
 },
 "nbformat": 4,
 "nbformat_minor": 4
}
