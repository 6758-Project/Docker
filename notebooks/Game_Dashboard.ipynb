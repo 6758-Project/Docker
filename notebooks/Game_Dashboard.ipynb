{
 "cells": [
  {
   "cell_type": "markdown",
   "metadata": {},
   "source": [
    "## Setup"
   ]
  },
  {
   "cell_type": "code",
   "execution_count": 1,
   "metadata": {},
   "outputs": [],
   "source": [
    "%load_ext autoreload\n",
    "%autoreload 2"
   ]
  },
  {
   "cell_type": "markdown",
   "metadata": {},
   "source": [
    "### Dependencies"
   ]
  },
  {
   "cell_type": "code",
   "execution_count": 2,
   "metadata": {},
   "outputs": [],
   "source": [
    "import datetime as dt\n",
    "import os\n",
    "\n",
    "import ipywidgets as widgets\n",
    "from IPython.display import display,clear_output"
   ]
  },
  {
   "cell_type": "code",
   "execution_count": 3,
   "metadata": {},
   "outputs": [],
   "source": [
    "import pandas as pd\n",
    "pd.options.mode.chained_assignment = None   # suppresses SettingWithCopyWarning"
   ]
  },
  {
   "cell_type": "code",
   "execution_count": 4,
   "metadata": {},
   "outputs": [
    {
     "data": {
      "text/plain": [
       "'C:\\\\Users\\\\timot\\\\Desktop\\\\Mila\\\\Courses\\\\IFT6758\\\\Project\\\\Project Service\\\\Docker\\\\notebooks'"
      ]
     },
     "execution_count": 4,
     "metadata": {},
     "output_type": "execute_result"
    }
   ],
   "source": [
    "pwd"
   ]
  },
  {
   "cell_type": "code",
   "execution_count": 5,
   "metadata": {},
   "outputs": [],
   "source": [
    "from ift6758.client import GameTracker, NHLAPIClient, PredictorAPIClient\n",
    "from ift6758.client.nhl_api_client import UnknownGameException\n",
    "from ift6758.client.predictor_api_client import UnknownModelException\n",
    "from ift6758.client.utils import MODEL_OPTIONS"
   ]
  },
  {
   "cell_type": "markdown",
   "metadata": {},
   "source": [
    "### Setup"
   ]
  },
  {
   "cell_type": "code",
   "execution_count": 6,
   "metadata": {},
   "outputs": [],
   "source": [
    "if not os.path.exists(\"./tmp_data/\"):\n",
    "    os.makedirs(\"./tmp_data/\")"
   ]
  },
  {
   "cell_type": "code",
   "execution_count": 7,
   "metadata": {},
   "outputs": [],
   "source": [
    "nhl_api = NHLAPIClient(raw_game_directory=\"./tmp_data/\")\n",
    "predictor = PredictorAPIClient(ip=\"serving\")\n",
    "#predictor = PredictorAPIClient(ip=\"127.0.0.1\")\n",
    "game_tracker = GameTracker(nhl_api_client=nhl_api, predictor_client=predictor)"
   ]
  },
  {
   "cell_type": "markdown",
   "metadata": {},
   "source": [
    "### Dashboard Actions"
   ]
  },
  {
   "cell_type": "code",
   "execution_count": 8,
   "metadata": {},
   "outputs": [],
   "source": [
    "def on_button_update_clicked(btn):\n",
    "    game_error = 0 \n",
    "    model_error = 0\n",
    "    with output:\n",
    "        try:\n",
    "            game_tracker.update(game_id_tbox.value, model_id_tbox.value)\n",
    "        except UnknownGameException as uge:\n",
    "            game_error = 1\n",
    "        except UnknownModelException as ume:\n",
    "            model_error = 1\n",
    "\n",
    "        events = game_tracker.get_events_and_predictions()\n",
    "\n",
    "        most_recent_event = events.head(1).squeeze()\n",
    "        home_team = most_recent_event['home_team']\n",
    "        away_team = most_recent_event['away_team']\n",
    "\n",
    "        home_xG = round(events.loc[events['shooter_team_name']==home_team, 'predictions'].sum(), 2)\n",
    "        away_xG = round(events.loc[events['shooter_team_name']==away_team, 'predictions'].sum(), 2)\n",
    "\n",
    "        clear_output()\n",
    "        if game_error:\n",
    "            print(f\"Game ID {game_id_tbox.value} not recognized, so dashboard unchanged\")\n",
    "            game_error = 0\n",
    "        if model_error:\n",
    "            print(f\"Dashboard unchanged because model_id \" + str(ume))\n",
    "            model_error = 0\n",
    "        \n",
    "        print(f\"Model Loaded: {model_id_tbox.value}\")\n",
    "        print(f\"Period {most_recent_event['period']}, {most_recent_event['time_remaining']} Remaining\")\n",
    "        print(f\"Home: {home_team} Away: {away_team}\")\n",
    "        print(f\"Home G: {most_recent_event['goals_home']} Away G: {most_recent_event['goals_away']}\")\n",
    "        print(f\"Home xG: {home_xG} Away xG: {away_xG}\")\n",
    "        print(f\"Recent events:\")\n",
    "        display(events[['type','description', 'predictions']].head(15))\n"
   ]
  },
  {
   "cell_type": "code",
   "execution_count": 9,
   "metadata": {},
   "outputs": [
    {
     "data": {
      "application/vnd.jupyter.widget-view+json": {
       "model_id": "bc5b9bf5bc7a45f984b8333b154d6cf8",
       "version_major": 2,
       "version_minor": 0
      },
      "text/plain": [
       "HBox(children=(Text(value='2021020008', description='game_id'), Dropdown(description='Number:', index=5, optio…"
      ]
     },
     "metadata": {},
     "output_type": "display_data"
    },
    {
     "data": {
      "application/vnd.jupyter.widget-view+json": {
       "model_id": "1074ec845de44f4f96b2c14498376fec",
       "version_major": 2,
       "version_minor": 0
      },
      "text/plain": [
       "Output()"
      ]
     },
     "metadata": {},
     "output_type": "display_data"
    }
   ],
   "source": [
    "game_id_tbox = widgets.Text(description=\"game_id\", width=300, value = \"2021020008\")\n",
    "model_id_tbox = widgets.Dropdown(\n",
    "    options=MODEL_OPTIONS,\n",
    "    value=\"xgboost-feats-non-corr\",\n",
    "    description='Number:',\n",
    ")\n",
    "\n",
    "button_update = widgets.Button(description=\"Update Dashboard\")\n",
    "\n",
    "button_update.on_click(on_button_update_clicked)\n",
    "output = widgets.Output()\n",
    "\n",
    "display(widgets.HBox((game_id_tbox, model_id_tbox, button_update)))\n",
    "display(output)"
   ]
  },
  {
   "cell_type": "code",
   "execution_count": null,
   "metadata": {},
   "outputs": [],
   "source": []
  }
 ],
 "metadata": {
  "interpreter": {
   "hash": "9458e4c2a045d659c76b210fb79a205bf96c8302ffa2a55b8d778519b889c5e1"
  },
  "kernelspec": {
   "display_name": "ift6758-conda-env",
   "language": "python",
   "name": "ift6758-conda-env"
  },
  "language_info": {
   "codemirror_mode": {
    "name": "ipython",
    "version": 3
   },
   "file_extension": ".py",
   "mimetype": "text/x-python",
   "name": "python",
   "nbconvert_exporter": "python",
   "pygments_lexer": "ipython3",
   "version": "3.9.7"
  }
 },
 "nbformat": 4,
 "nbformat_minor": 4
}
