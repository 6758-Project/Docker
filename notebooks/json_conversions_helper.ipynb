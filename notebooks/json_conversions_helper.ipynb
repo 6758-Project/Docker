{
 "cells": [
  {
   "cell_type": "code",
   "execution_count": 1,
   "id": "72f6ef64-1cf8-454a-b738-52827c2c675a",
   "metadata": {},
   "outputs": [],
   "source": [
    "import json\n",
    "import pandas as pd"
   ]
  },
  {
   "cell_type": "markdown",
   "id": "fd1c0371-503a-400b-bb7d-5dd1cf60b7fd",
   "metadata": {},
   "source": [
    "# json <-> dict"
   ]
  },
  {
   "cell_type": "code",
   "execution_count": 19,
   "id": "c9df9333-64f1-4d5b-b44d-3e0d05425735",
   "metadata": {},
   "outputs": [],
   "source": [
    "tmp_dct = {\"project_name\": \"ift6758-hockey\", \"workspace\": \"tim-k-lee\", \"model_type\": \"xgboost_non_corr\", \"model_desc\": \"XGBoost with Non Correlated Features\", \"model_name\": \"xgboost-feats-non-corr\", \"version\": \"1.0.1\", \"file_name\": \"xgboost_feats_non_corr\"}"
   ]
  },
  {
   "cell_type": "code",
   "execution_count": 20,
   "id": "d9df6fbb-0d05-4b5f-9e8f-0de947b7782c",
   "metadata": {},
   "outputs": [],
   "source": [
    "tmp_json = json.dumps(tmp_dct)"
   ]
  },
  {
   "cell_type": "code",
   "execution_count": 21,
   "id": "f9289ce5-d281-4c76-8a15-df5f3e2b8771",
   "metadata": {},
   "outputs": [
    {
     "data": {
      "text/plain": [
       "'{\"project_name\": \"ift6758-hockey\", \"workspace\": \"tim-k-lee\", \"model_type\": \"xgboost_non_corr\", \"model_desc\": \"XGBoost with Non Correlated Features\", \"model_name\": \"xgboost-feats-non-corr\", \"version\": \"1.0.1\", \"file_name\": \"xgboost_feats_non_corr\"}'"
      ]
     },
     "execution_count": 21,
     "metadata": {},
     "output_type": "execute_result"
    }
   ],
   "source": [
    "tmp_json"
   ]
  },
  {
   "cell_type": "code",
   "execution_count": 22,
   "id": "bc2a5141-037b-4474-b661-e8265f9a7c81",
   "metadata": {},
   "outputs": [
    {
     "data": {
      "text/plain": [
       "{'project_name': 'ift6758-hockey',\n",
       " 'workspace': 'tim-k-lee',\n",
       " 'model_type': 'xgboost_non_corr',\n",
       " 'model_desc': 'XGBoost with Non Correlated Features',\n",
       " 'model_name': 'xgboost-feats-non-corr',\n",
       " 'version': '1.0.1',\n",
       " 'file_name': 'xgboost_feats_non_corr'}"
      ]
     },
     "execution_count": 22,
     "metadata": {},
     "output_type": "execute_result"
    }
   ],
   "source": [
    "dct_again = json.loads(tmp_json)\n",
    "dct_again"
   ]
  },
  {
   "cell_type": "markdown",
   "id": "a6011209-70f1-47e2-81ee-6738fa080d6f",
   "metadata": {},
   "source": [
    "# dataframe <-> json"
   ]
  },
  {
   "cell_type": "code",
   "execution_count": 23,
   "id": "a73da76a-ec13-4186-b5e3-a4537737f86d",
   "metadata": {},
   "outputs": [],
   "source": [
    "X_test = pd.read_csv(\"offline_test_data.csv\")"
   ]
  },
  {
   "cell_type": "code",
   "execution_count": 24,
   "id": "5fb61943-4758-4113-898c-5cb605cf721f",
   "metadata": {},
   "outputs": [
    {
     "data": {
      "text/html": [
       "<div>\n",
       "<style scoped>\n",
       "    .dataframe tbody tr th:only-of-type {\n",
       "        vertical-align: middle;\n",
       "    }\n",
       "\n",
       "    .dataframe tbody tr th {\n",
       "        vertical-align: top;\n",
       "    }\n",
       "\n",
       "    .dataframe thead th {\n",
       "        text-align: right;\n",
       "    }\n",
       "</style>\n",
       "<table border=\"1\" class=\"dataframe\">\n",
       "  <thead>\n",
       "    <tr style=\"text-align: right;\">\n",
       "      <th></th>\n",
       "      <th>angle</th>\n",
       "      <th>angle_between_prev_event</th>\n",
       "      <th>distance_from_net</th>\n",
       "      <th>distance_from_prev_event</th>\n",
       "      <th>game_sec</th>\n",
       "      <th>is_empty_net</th>\n",
       "      <th>prev_event_BLOCKED_SHOT</th>\n",
       "      <th>prev_event_FACEOFF</th>\n",
       "      <th>prev_event_GIVEAWAY</th>\n",
       "      <th>prev_event_HIT</th>\n",
       "      <th>...</th>\n",
       "      <th>rebound_angle</th>\n",
       "      <th>shot_Backhand</th>\n",
       "      <th>shot_Deflected</th>\n",
       "      <th>shot_Slap Shot</th>\n",
       "      <th>shot_Snap Shot</th>\n",
       "      <th>shot_Tip-In</th>\n",
       "      <th>shot_Wrap-around</th>\n",
       "      <th>shot_Wrist Shot</th>\n",
       "      <th>speed</th>\n",
       "      <th>is_goal</th>\n",
       "    </tr>\n",
       "  </thead>\n",
       "  <tbody>\n",
       "    <tr>\n",
       "      <th>0</th>\n",
       "      <td>-56.309932</td>\n",
       "      <td>48.3830</td>\n",
       "      <td>18.027756</td>\n",
       "      <td>148.1654</td>\n",
       "      <td>70.0</td>\n",
       "      <td>False</td>\n",
       "      <td>0</td>\n",
       "      <td>1</td>\n",
       "      <td>0</td>\n",
       "      <td>0</td>\n",
       "      <td>...</td>\n",
       "      <td>0.0</td>\n",
       "      <td>0</td>\n",
       "      <td>0</td>\n",
       "      <td>0</td>\n",
       "      <td>0</td>\n",
       "      <td>0</td>\n",
       "      <td>0</td>\n",
       "      <td>1</td>\n",
       "      <td>7.7982</td>\n",
       "      <td>0</td>\n",
       "    </tr>\n",
       "    <tr>\n",
       "      <th>1</th>\n",
       "      <td>24.567171</td>\n",
       "      <td>23.1591</td>\n",
       "      <td>38.483763</td>\n",
       "      <td>16.1555</td>\n",
       "      <td>149.0</td>\n",
       "      <td>False</td>\n",
       "      <td>0</td>\n",
       "      <td>1</td>\n",
       "      <td>0</td>\n",
       "      <td>0</td>\n",
       "      <td>...</td>\n",
       "      <td>0.0</td>\n",
       "      <td>0</td>\n",
       "      <td>0</td>\n",
       "      <td>0</td>\n",
       "      <td>1</td>\n",
       "      <td>0</td>\n",
       "      <td>0</td>\n",
       "      <td>0</td>\n",
       "      <td>8.0778</td>\n",
       "      <td>1</td>\n",
       "    </tr>\n",
       "    <tr>\n",
       "      <th>2</th>\n",
       "      <td>-20.224859</td>\n",
       "      <td>89.1873</td>\n",
       "      <td>20.248457</td>\n",
       "      <td>34.2052</td>\n",
       "      <td>189.0</td>\n",
       "      <td>False</td>\n",
       "      <td>0</td>\n",
       "      <td>0</td>\n",
       "      <td>1</td>\n",
       "      <td>0</td>\n",
       "      <td>...</td>\n",
       "      <td>0.0</td>\n",
       "      <td>0</td>\n",
       "      <td>0</td>\n",
       "      <td>0</td>\n",
       "      <td>0</td>\n",
       "      <td>0</td>\n",
       "      <td>0</td>\n",
       "      <td>1</td>\n",
       "      <td>3.8006</td>\n",
       "      <td>0</td>\n",
       "    </tr>\n",
       "    <tr>\n",
       "      <th>3</th>\n",
       "      <td>4.236395</td>\n",
       "      <td>5.2717</td>\n",
       "      <td>54.147945</td>\n",
       "      <td>112.2185</td>\n",
       "      <td>275.0</td>\n",
       "      <td>False</td>\n",
       "      <td>1</td>\n",
       "      <td>0</td>\n",
       "      <td>0</td>\n",
       "      <td>0</td>\n",
       "      <td>...</td>\n",
       "      <td>0.0</td>\n",
       "      <td>0</td>\n",
       "      <td>0</td>\n",
       "      <td>1</td>\n",
       "      <td>0</td>\n",
       "      <td>0</td>\n",
       "      <td>0</td>\n",
       "      <td>0</td>\n",
       "      <td>8.6322</td>\n",
       "      <td>0</td>\n",
       "    </tr>\n",
       "    <tr>\n",
       "      <th>4</th>\n",
       "      <td>3.270488</td>\n",
       "      <td>4.8021</td>\n",
       "      <td>35.057096</td>\n",
       "      <td>152.1611</td>\n",
       "      <td>374.0</td>\n",
       "      <td>False</td>\n",
       "      <td>0</td>\n",
       "      <td>0</td>\n",
       "      <td>0</td>\n",
       "      <td>1</td>\n",
       "      <td>...</td>\n",
       "      <td>0.0</td>\n",
       "      <td>0</td>\n",
       "      <td>0</td>\n",
       "      <td>0</td>\n",
       "      <td>1</td>\n",
       "      <td>0</td>\n",
       "      <td>0</td>\n",
       "      <td>0</td>\n",
       "      <td>38.0403</td>\n",
       "      <td>0</td>\n",
       "    </tr>\n",
       "  </tbody>\n",
       "</table>\n",
       "<p>5 rows × 25 columns</p>\n",
       "</div>"
      ],
      "text/plain": [
       "       angle  angle_between_prev_event  distance_from_net  \\\n",
       "0 -56.309932                   48.3830          18.027756   \n",
       "1  24.567171                   23.1591          38.483763   \n",
       "2 -20.224859                   89.1873          20.248457   \n",
       "3   4.236395                    5.2717          54.147945   \n",
       "4   3.270488                    4.8021          35.057096   \n",
       "\n",
       "   distance_from_prev_event  game_sec  is_empty_net  prev_event_BLOCKED_SHOT  \\\n",
       "0                  148.1654      70.0         False                        0   \n",
       "1                   16.1555     149.0         False                        0   \n",
       "2                   34.2052     189.0         False                        0   \n",
       "3                  112.2185     275.0         False                        1   \n",
       "4                  152.1611     374.0         False                        0   \n",
       "\n",
       "   prev_event_FACEOFF  prev_event_GIVEAWAY  prev_event_HIT  ...  \\\n",
       "0                   1                    0               0  ...   \n",
       "1                   1                    0               0  ...   \n",
       "2                   0                    1               0  ...   \n",
       "3                   0                    0               0  ...   \n",
       "4                   0                    0               1  ...   \n",
       "\n",
       "   rebound_angle  shot_Backhand  shot_Deflected  shot_Slap Shot  \\\n",
       "0            0.0              0               0               0   \n",
       "1            0.0              0               0               0   \n",
       "2            0.0              0               0               0   \n",
       "3            0.0              0               0               1   \n",
       "4            0.0              0               0               0   \n",
       "\n",
       "   shot_Snap Shot  shot_Tip-In  shot_Wrap-around  shot_Wrist Shot    speed  \\\n",
       "0               0            0                 0                1   7.7982   \n",
       "1               1            0                 0                0   8.0778   \n",
       "2               0            0                 0                1   3.8006   \n",
       "3               0            0                 0                0   8.6322   \n",
       "4               1            0                 0                0  38.0403   \n",
       "\n",
       "   is_goal  \n",
       "0        0  \n",
       "1        1  \n",
       "2        0  \n",
       "3        0  \n",
       "4        0  \n",
       "\n",
       "[5 rows x 25 columns]"
      ]
     },
     "execution_count": 24,
     "metadata": {},
     "output_type": "execute_result"
    }
   ],
   "source": [
    "X_test.head()"
   ]
  },
  {
   "cell_type": "code",
   "execution_count": 25,
   "id": "5a841f55-d7c1-4a41-8fac-4f74e2b4c281",
   "metadata": {},
   "outputs": [],
   "source": [
    "X_test_json = X_test.to_json()"
   ]
  },
  {
   "cell_type": "code",
   "execution_count": 26,
   "id": "d222ffbe-3c38-4ea0-982f-e128e5015bef",
   "metadata": {},
   "outputs": [
    {
     "data": {
      "text/html": [
       "<div>\n",
       "<style scoped>\n",
       "    .dataframe tbody tr th:only-of-type {\n",
       "        vertical-align: middle;\n",
       "    }\n",
       "\n",
       "    .dataframe tbody tr th {\n",
       "        vertical-align: top;\n",
       "    }\n",
       "\n",
       "    .dataframe thead th {\n",
       "        text-align: right;\n",
       "    }\n",
       "</style>\n",
       "<table border=\"1\" class=\"dataframe\">\n",
       "  <thead>\n",
       "    <tr style=\"text-align: right;\">\n",
       "      <th></th>\n",
       "      <th>angle</th>\n",
       "      <th>angle_between_prev_event</th>\n",
       "      <th>distance_from_net</th>\n",
       "      <th>distance_from_prev_event</th>\n",
       "      <th>game_sec</th>\n",
       "      <th>is_empty_net</th>\n",
       "      <th>prev_event_BLOCKED_SHOT</th>\n",
       "      <th>prev_event_FACEOFF</th>\n",
       "      <th>prev_event_GIVEAWAY</th>\n",
       "      <th>prev_event_HIT</th>\n",
       "      <th>...</th>\n",
       "      <th>rebound_angle</th>\n",
       "      <th>shot_Backhand</th>\n",
       "      <th>shot_Deflected</th>\n",
       "      <th>shot_Slap Shot</th>\n",
       "      <th>shot_Snap Shot</th>\n",
       "      <th>shot_Tip-In</th>\n",
       "      <th>shot_Wrap-around</th>\n",
       "      <th>shot_Wrist Shot</th>\n",
       "      <th>speed</th>\n",
       "      <th>is_goal</th>\n",
       "    </tr>\n",
       "  </thead>\n",
       "  <tbody>\n",
       "    <tr>\n",
       "      <th>0</th>\n",
       "      <td>-56.309932</td>\n",
       "      <td>48.3830</td>\n",
       "      <td>18.027756</td>\n",
       "      <td>148.1654</td>\n",
       "      <td>70.0</td>\n",
       "      <td>False</td>\n",
       "      <td>0</td>\n",
       "      <td>1</td>\n",
       "      <td>0</td>\n",
       "      <td>0</td>\n",
       "      <td>...</td>\n",
       "      <td>0.0</td>\n",
       "      <td>0</td>\n",
       "      <td>0</td>\n",
       "      <td>0</td>\n",
       "      <td>0</td>\n",
       "      <td>0</td>\n",
       "      <td>0</td>\n",
       "      <td>1</td>\n",
       "      <td>7.7982</td>\n",
       "      <td>0</td>\n",
       "    </tr>\n",
       "    <tr>\n",
       "      <th>1</th>\n",
       "      <td>24.567171</td>\n",
       "      <td>23.1591</td>\n",
       "      <td>38.483763</td>\n",
       "      <td>16.1555</td>\n",
       "      <td>149.0</td>\n",
       "      <td>False</td>\n",
       "      <td>0</td>\n",
       "      <td>1</td>\n",
       "      <td>0</td>\n",
       "      <td>0</td>\n",
       "      <td>...</td>\n",
       "      <td>0.0</td>\n",
       "      <td>0</td>\n",
       "      <td>0</td>\n",
       "      <td>0</td>\n",
       "      <td>1</td>\n",
       "      <td>0</td>\n",
       "      <td>0</td>\n",
       "      <td>0</td>\n",
       "      <td>8.0778</td>\n",
       "      <td>1</td>\n",
       "    </tr>\n",
       "    <tr>\n",
       "      <th>2</th>\n",
       "      <td>-20.224859</td>\n",
       "      <td>89.1873</td>\n",
       "      <td>20.248457</td>\n",
       "      <td>34.2052</td>\n",
       "      <td>189.0</td>\n",
       "      <td>False</td>\n",
       "      <td>0</td>\n",
       "      <td>0</td>\n",
       "      <td>1</td>\n",
       "      <td>0</td>\n",
       "      <td>...</td>\n",
       "      <td>0.0</td>\n",
       "      <td>0</td>\n",
       "      <td>0</td>\n",
       "      <td>0</td>\n",
       "      <td>0</td>\n",
       "      <td>0</td>\n",
       "      <td>0</td>\n",
       "      <td>1</td>\n",
       "      <td>3.8006</td>\n",
       "      <td>0</td>\n",
       "    </tr>\n",
       "    <tr>\n",
       "      <th>3</th>\n",
       "      <td>4.236395</td>\n",
       "      <td>5.2717</td>\n",
       "      <td>54.147945</td>\n",
       "      <td>112.2185</td>\n",
       "      <td>275.0</td>\n",
       "      <td>False</td>\n",
       "      <td>1</td>\n",
       "      <td>0</td>\n",
       "      <td>0</td>\n",
       "      <td>0</td>\n",
       "      <td>...</td>\n",
       "      <td>0.0</td>\n",
       "      <td>0</td>\n",
       "      <td>0</td>\n",
       "      <td>1</td>\n",
       "      <td>0</td>\n",
       "      <td>0</td>\n",
       "      <td>0</td>\n",
       "      <td>0</td>\n",
       "      <td>8.6322</td>\n",
       "      <td>0</td>\n",
       "    </tr>\n",
       "    <tr>\n",
       "      <th>4</th>\n",
       "      <td>3.270488</td>\n",
       "      <td>4.8021</td>\n",
       "      <td>35.057096</td>\n",
       "      <td>152.1611</td>\n",
       "      <td>374.0</td>\n",
       "      <td>False</td>\n",
       "      <td>0</td>\n",
       "      <td>0</td>\n",
       "      <td>0</td>\n",
       "      <td>1</td>\n",
       "      <td>...</td>\n",
       "      <td>0.0</td>\n",
       "      <td>0</td>\n",
       "      <td>0</td>\n",
       "      <td>0</td>\n",
       "      <td>1</td>\n",
       "      <td>0</td>\n",
       "      <td>0</td>\n",
       "      <td>0</td>\n",
       "      <td>38.0403</td>\n",
       "      <td>0</td>\n",
       "    </tr>\n",
       "  </tbody>\n",
       "</table>\n",
       "<p>5 rows × 25 columns</p>\n",
       "</div>"
      ],
      "text/plain": [
       "       angle  angle_between_prev_event  distance_from_net  \\\n",
       "0 -56.309932                   48.3830          18.027756   \n",
       "1  24.567171                   23.1591          38.483763   \n",
       "2 -20.224859                   89.1873          20.248457   \n",
       "3   4.236395                    5.2717          54.147945   \n",
       "4   3.270488                    4.8021          35.057096   \n",
       "\n",
       "   distance_from_prev_event  game_sec  is_empty_net  prev_event_BLOCKED_SHOT  \\\n",
       "0                  148.1654      70.0         False                        0   \n",
       "1                   16.1555     149.0         False                        0   \n",
       "2                   34.2052     189.0         False                        0   \n",
       "3                  112.2185     275.0         False                        1   \n",
       "4                  152.1611     374.0         False                        0   \n",
       "\n",
       "   prev_event_FACEOFF  prev_event_GIVEAWAY  prev_event_HIT  ...  \\\n",
       "0                   1                    0               0  ...   \n",
       "1                   1                    0               0  ...   \n",
       "2                   0                    1               0  ...   \n",
       "3                   0                    0               0  ...   \n",
       "4                   0                    0               1  ...   \n",
       "\n",
       "   rebound_angle  shot_Backhand  shot_Deflected  shot_Slap Shot  \\\n",
       "0            0.0              0               0               0   \n",
       "1            0.0              0               0               0   \n",
       "2            0.0              0               0               0   \n",
       "3            0.0              0               0               1   \n",
       "4            0.0              0               0               0   \n",
       "\n",
       "   shot_Snap Shot  shot_Tip-In  shot_Wrap-around  shot_Wrist Shot    speed  \\\n",
       "0               0            0                 0                1   7.7982   \n",
       "1               1            0                 0                0   8.0778   \n",
       "2               0            0                 0                1   3.8006   \n",
       "3               0            0                 0                0   8.6322   \n",
       "4               1            0                 0                0  38.0403   \n",
       "\n",
       "   is_goal  \n",
       "0        0  \n",
       "1        1  \n",
       "2        0  \n",
       "3        0  \n",
       "4        0  \n",
       "\n",
       "[5 rows x 25 columns]"
      ]
     },
     "execution_count": 26,
     "metadata": {},
     "output_type": "execute_result"
    }
   ],
   "source": [
    "data_dct = json.loads(X_test_json)\n",
    "data_df = pd.DataFrame(data_dct)\n",
    "data_df.head()"
   ]
  },
  {
   "cell_type": "code",
   "execution_count": 27,
   "id": "ff82f746-6bd6-4170-a1f6-b1ce4fb7eb6c",
   "metadata": {},
   "outputs": [
    {
     "data": {
      "text/plain": [
       "angle                      -56.309932\n",
       "angle_between_prev_event       48.383\n",
       "distance_from_net           18.027756\n",
       "distance_from_prev_event     148.1654\n",
       "game_sec                         70.0\n",
       "is_empty_net                    False\n",
       "prev_event_BLOCKED_SHOT             0\n",
       "prev_event_FACEOFF                  1\n",
       "prev_event_GIVEAWAY                 0\n",
       "prev_event_HIT                      0\n",
       "prev_event_MISSED_SHOT              0\n",
       "prev_event_SHOT                     0\n",
       "prev_event_STOP                     0\n",
       "prev_event_TAKEAWAY                 0\n",
       "prev_event_time_diff             19.0\n",
       "rebound_angle                     0.0\n",
       "shot_Backhand                       0\n",
       "shot_Deflected                      0\n",
       "shot_Slap Shot                      0\n",
       "shot_Snap Shot                      0\n",
       "shot_Tip-In                         0\n",
       "shot_Wrap-around                    0\n",
       "shot_Wrist Shot                     1\n",
       "speed                          7.7982\n",
       "Name: 0, dtype: object"
      ]
     },
     "execution_count": 27,
     "metadata": {},
     "output_type": "execute_result"
    }
   ],
   "source": [
    "data_df = data_df[data_df.columns.difference(['is_goal'])]\n",
    "data_df.iloc[0]"
   ]
  },
  {
   "cell_type": "code",
   "execution_count": 28,
   "id": "1582ba6f-7eb6-470d-bfde-ca208007a676",
   "metadata": {},
   "outputs": [
    {
     "data": {
      "text/plain": [
       "Index(['angle', 'angle_between_prev_event', 'distance_from_net',\n",
       "       'distance_from_prev_event', 'game_sec', 'is_empty_net',\n",
       "       'prev_event_BLOCKED_SHOT', 'prev_event_FACEOFF', 'prev_event_GIVEAWAY',\n",
       "       'prev_event_HIT', 'prev_event_MISSED_SHOT', 'prev_event_SHOT',\n",
       "       'prev_event_STOP', 'prev_event_TAKEAWAY', 'prev_event_time_diff',\n",
       "       'rebound_angle', 'shot_Backhand', 'shot_Deflected', 'shot_Slap Shot',\n",
       "       'shot_Snap Shot', 'shot_Tip-In', 'shot_Wrap-around', 'shot_Wrist Shot',\n",
       "       'speed'],\n",
       "      dtype='object')"
      ]
     },
     "execution_count": 28,
     "metadata": {},
     "output_type": "execute_result"
    }
   ],
   "source": [
    "data_df.columns"
   ]
  },
  {
   "cell_type": "code",
   "execution_count": 31,
   "id": "817b70f9-fe4f-460c-af64-5a887c15099b",
   "metadata": {},
   "outputs": [
    {
     "data": {
      "text/plain": [
       "(73867, 24)"
      ]
     },
     "execution_count": 31,
     "metadata": {},
     "output_type": "execute_result"
    }
   ],
   "source": [
    "data_df.shape"
   ]
  },
  {
   "cell_type": "code",
   "execution_count": 40,
   "id": "2428e11c-dba0-4baa-b575-0f4e94bfa871",
   "metadata": {},
   "outputs": [
    {
     "data": {
      "text/plain": [
       "(1, 24)"
      ]
     },
     "execution_count": 40,
     "metadata": {},
     "output_type": "execute_result"
    }
   ],
   "source": [
    "data_df.iloc[0].values.reshape(1,-1).shape"
   ]
  },
  {
   "cell_type": "code",
   "execution_count": 6,
   "id": "7ae3d3b7-fc90-4ba3-8927-480f7fea8747",
   "metadata": {},
   "outputs": [
    {
     "data": {
      "text/html": [
       "<div>\n",
       "<style scoped>\n",
       "    .dataframe tbody tr th:only-of-type {\n",
       "        vertical-align: middle;\n",
       "    }\n",
       "\n",
       "    .dataframe tbody tr th {\n",
       "        vertical-align: top;\n",
       "    }\n",
       "\n",
       "    .dataframe thead th {\n",
       "        text-align: right;\n",
       "    }\n",
       "</style>\n",
       "<table border=\"1\" class=\"dataframe\">\n",
       "  <thead>\n",
       "    <tr style=\"text-align: right;\">\n",
       "      <th></th>\n",
       "      <th>0</th>\n",
       "      <th>1</th>\n",
       "      <th>2</th>\n",
       "    </tr>\n",
       "  </thead>\n",
       "  <tbody>\n",
       "    <tr>\n",
       "      <th>1</th>\n",
       "      <td>a</td>\n",
       "      <td>b</td>\n",
       "      <td>c</td>\n",
       "    </tr>\n",
       "  </tbody>\n",
       "</table>\n",
       "</div>"
      ],
      "text/plain": [
       "   0  1  2\n",
       "1  a  b  c"
      ]
     },
     "execution_count": 6,
     "metadata": {},
     "output_type": "execute_result"
    }
   ],
   "source": [
    "df = pd.DataFrame({0:'a', 1:'b', 2:'c'}, index=[1])\n",
    "df"
   ]
  },
  {
   "cell_type": "code",
   "execution_count": null,
   "id": "e15164bf-a820-4108-b205-209ecd2e39ab",
   "metadata": {},
   "outputs": [],
   "source": []
  }
 ],
 "metadata": {
  "kernelspec": {
   "display_name": "flask_env",
   "language": "python",
   "name": "flask_env"
  },
  "language_info": {
   "codemirror_mode": {
    "name": "ipython",
    "version": 3
   },
   "file_extension": ".py",
   "mimetype": "text/x-python",
   "name": "python",
   "nbconvert_exporter": "python",
   "pygments_lexer": "ipython3",
   "version": "3.9.7"
  }
 },
 "nbformat": 4,
 "nbformat_minor": 5
}
