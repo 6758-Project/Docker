{
 "cells": [
  {
   "cell_type": "code",
   "execution_count": 20,
   "id": "56ba6493-ca77-426f-b254-bce6ee52e11c",
   "metadata": {},
   "outputs": [],
   "source": [
    "# Note run \"waitress-serve --listen=127.0.0.1:5000 app:app\" to start the backend"
   ]
  },
  {
   "cell_type": "code",
   "execution_count": 1,
   "id": "068b320c-28ec-4bc9-bb37-17413997c053",
   "metadata": {},
   "outputs": [],
   "source": [
    "import requests\n",
    "import sys\n",
    "sys.path.append(\"../src\")\n",
    "from utils import MODEL_XGB_NON_CORR \n",
    "from Preprocess import process_data, XGB_Non_Corr_preprocess"
   ]
  },
  {
   "cell_type": "code",
   "execution_count": 2,
   "id": "42bf858b-2eb4-4fd5-8d4b-10b248c4bc5b",
   "metadata": {},
   "outputs": [
    {
     "name": "stdout",
     "output_type": "stream",
     "text": [
      "Index(['angle', 'angle_between_prev_event', 'distance_from_net',\n",
      "       'distance_from_prev_event', 'game_sec', 'is_empty_net',\n",
      "       'prev_event_BLOCKED_SHOT', 'prev_event_FACEOFF', 'prev_event_GIVEAWAY',\n",
      "       'prev_event_HIT', 'prev_event_MISSED_SHOT', 'prev_event_SHOT',\n",
      "       'prev_event_STOP', 'prev_event_TAKEAWAY', 'prev_event_time_diff',\n",
      "       'rebound_angle', 'shot_Backhand', 'shot_Deflected', 'shot_Slap Shot',\n",
      "       'shot_Snap Shot', 'shot_Tip-In', 'shot_Wrap-around', 'shot_Wrist Shot',\n",
      "       'speed'],\n",
      "      dtype='object')\n"
     ]
    }
   ],
   "source": [
    "test_path = \"../data/test_processed.csv\"\n",
    "X_processed, Y_Test = process_data(test_path)"
   ]
  },
  {
   "cell_type": "code",
   "execution_count": 3,
   "id": "3b4e400e-1b76-4ca4-a427-ff9457aa6fab",
   "metadata": {},
   "outputs": [
    {
     "data": {
      "text/plain": [
       "'{\"angle\":2.009553813,\"angle_between_prev_event\":28.3141,\"distance_from_net\":57.0350769264,\"distance_from_prev_event\":29.2746,\"game_sec\":91.0,\"is_empty_net\":false,\"prev_event_BLOCKED_SHOT\":0,\"prev_event_FACEOFF\":0,\"prev_event_GIVEAWAY\":1,\"prev_event_HIT\":0,\"prev_event_MISSED_SHOT\":0,\"prev_event_SHOT\":0,\"prev_event_STOP\":0,\"prev_event_TAKEAWAY\":0,\"prev_event_time_diff\":27.0,\"rebound_angle\":0.0,\"shot_Backhand\":0,\"shot_Deflected\":0,\"shot_Slap Shot\":0,\"shot_Snap Shot\":1,\"shot_Tip-In\":0,\"shot_Wrap-around\":0,\"shot_Wrist Shot\":0,\"speed\":1.0842}'"
      ]
     },
     "execution_count": 3,
     "metadata": {},
     "output_type": "execute_result"
    }
   ],
   "source": [
    "endpoint_input = X_processed.iloc[1,:]. to_json()\n",
    "endpoint_input"
   ]
  },
  {
   "cell_type": "markdown",
   "id": "337b1c95-177a-42d6-bf00-c9bac6aa06cd",
   "metadata": {},
   "source": [
    "### Test endpoint /logs"
   ]
  },
  {
   "cell_type": "code",
   "execution_count": 4,
   "id": "844eed60-efce-40d8-8108-05bdafe44b7a",
   "metadata": {},
   "outputs": [
    {
     "data": {
      "text/plain": [
       "<Response [200]>"
      ]
     },
     "execution_count": 4,
     "metadata": {},
     "output_type": "execute_result"
    }
   ],
   "source": [
    "url = 'http://127.0.0.1:5000/logs'\n",
    "g =requests.get(url)\n",
    "g"
   ]
  },
  {
   "cell_type": "code",
   "execution_count": 5,
   "id": "6cfd0595-3419-4871-bec1-01e8aace36e3",
   "metadata": {},
   "outputs": [
    {
     "name": "stdout",
     "output_type": "stream",
     "text": [
      "\"Running intialization routine\\nModel directry exist\\nNo model in directory\\n\"\n",
      "\n"
     ]
    }
   ],
   "source": [
    "print(g.text)"
   ]
  },
  {
   "cell_type": "markdown",
   "id": "36243f61-94e3-4198-9387-908e187a5f50",
   "metadata": {},
   "source": [
    "### Test endpoint /download_registry_model"
   ]
  },
  {
   "cell_type": "code",
   "execution_count": 6,
   "id": "059b3ad6-e507-4470-911a-26a23ad08d97",
   "metadata": {},
   "outputs": [
    {
     "data": {
      "text/plain": [
       "'\"Reistry model retrieved\"\\n'"
      ]
     },
     "execution_count": 6,
     "metadata": {},
     "output_type": "execute_result"
    }
   ],
   "source": [
    "url = 'http://127.0.0.1:5000/download_registry_model'\n",
    "r = requests.post(url,json=MODEL_XGB_NON_CORR)\n",
    "r.text"
   ]
  },
  {
   "cell_type": "code",
   "execution_count": 7,
   "id": "1bace891-af2c-4bf9-a922-db21da370a21",
   "metadata": {},
   "outputs": [
    {
     "data": {
      "text/plain": [
       "'\"Reistry model retrieved\"\\n'"
      ]
     },
     "execution_count": 7,
     "metadata": {},
     "output_type": "execute_result"
    }
   ],
   "source": [
    "url = 'http://127.0.0.1:5000/download_registry_model'\n",
    "r = requests.post(url,json=MODEL_XGB_NON_CORR)\n",
    "r.text"
   ]
  },
  {
   "cell_type": "markdown",
   "id": "cd838343-f124-402d-9dbc-72e916ce43c1",
   "metadata": {},
   "source": [
    "### Test endpoint /predict"
   ]
  },
  {
   "cell_type": "code",
   "execution_count": 8,
   "id": "0da6c184-688b-4eb4-b4cb-3f6b314aab1c",
   "metadata": {},
   "outputs": [
    {
     "data": {
      "text/plain": [
       "'[0]\\n'"
      ]
     },
     "execution_count": 8,
     "metadata": {},
     "output_type": "execute_result"
    }
   ],
   "source": [
    "url = 'http://127.0.0.1:5000/predict'\n",
    "r = requests.post(url,data=endpoint_input)\n",
    "r.text"
   ]
  },
  {
   "cell_type": "code",
   "execution_count": null,
   "id": "48fdd245-8f0a-4aa9-8ca6-d80c2c3f65e9",
   "metadata": {},
   "outputs": [],
   "source": []
  }
 ],
 "metadata": {
  "kernelspec": {
   "display_name": "ift6758-conda-env",
   "language": "python",
   "name": "ift6758-conda-env"
  },
  "language_info": {
   "codemirror_mode": {
    "name": "ipython",
    "version": 3
   },
   "file_extension": ".py",
   "mimetype": "text/x-python",
   "name": "python",
   "nbconvert_exporter": "python",
   "pygments_lexer": "ipython3",
   "version": "3.9.7"
  }
 },
 "nbformat": 4,
 "nbformat_minor": 5
}
